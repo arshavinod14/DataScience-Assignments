{
 "cells": [
  {
   "cell_type": "code",
   "execution_count": 2,
   "id": "e3d6cd98",
   "metadata": {},
   "outputs": [],
   "source": [
    "import numpy as np\n",
    "from scipy import stats\n",
    "from scipy.stats import norm"
   ]
  },
  {
   "cell_type": "markdown",
   "id": "63618777",
   "metadata": {},
   "source": [
    "### Topics: Normal distribution, Functions of Random Variables\n",
    "\n",
    "#### Q1.The time required for servicing transmissions is normally distributed with µ  = 45 minutes and σ = 8 minutes. The service manager plans to have work begin on the transmission of a customer’s car 10 minutes after the car is dropped off and the customer is told that the car will be ready within 1 hour from drop-off. What is the probability that the service manager cannot meet his commitment? \n",
    "\n",
    "Ans:-\n",
    "#### µ  = 45 minutes\n",
    "#### σ = 8 minutes\n",
    "#### let X = amount required to complete the repair of the car.\n",
    "#### p(completeing the work in 1 hr and starting the work after 10 min) = 60 - 10 = 50mins\n",
    "#### ie,p(X<=50) -> p(X>50) -> 1-p(x<=50)\n"
   ]
  },
  {
   "cell_type": "code",
   "execution_count": 2,
   "id": "25b6ac0b",
   "metadata": {},
   "outputs": [
    {
     "data": {
      "text/plain": [
       "0.625"
      ]
     },
     "execution_count": 2,
     "metadata": {},
     "output_type": "execute_result"
    }
   ],
   "source": [
    "z = (50-45)/8\n",
    "z"
   ]
  },
  {
   "cell_type": "code",
   "execution_count": 3,
   "id": "4c3816ca",
   "metadata": {},
   "outputs": [
    {
     "data": {
      "text/plain": [
       "0.26598552904870054"
      ]
     },
     "execution_count": 3,
     "metadata": {},
     "output_type": "execute_result"
    }
   ],
   "source": [
    "#probability that the service manager cannot meet his commitment is\n",
    "1-stats.norm.cdf(0.625)"
   ]
  },
  {
   "cell_type": "markdown",
   "id": "7b99e0e9",
   "metadata": {},
   "source": [
    "#### Q2.\tThe current age (in years) of 400 clerical employees at an insurance claims processing center is normally distributed with mean µ = 38 and Standard deviation σ =6. For each statement below, please specify True/False. If false, briefly explain why.\n",
    "#### A.\tMore employees at the processing center are older than 44 than between 38 and 44.\n",
    "#### B.\tA training program for employees under the age of 30 at the center would be expected to attract about 36 employees.\n",
    "\n",
    "Ans:- µ = 38  σ =6 N=400\n",
    "\n"
   ]
  },
  {
   "cell_type": "code",
   "execution_count": 8,
   "id": "f6a80a82",
   "metadata": {},
   "outputs": [
    {
     "data": {
      "text/plain": [
       "0.15865525393145707"
      ]
     },
     "execution_count": 8,
     "metadata": {},
     "output_type": "execute_result"
    }
   ],
   "source": [
    "#employess older than 44 p(X>44)\n",
    "1-stats.norm.cdf(44,38,6)"
   ]
  },
  {
   "cell_type": "code",
   "execution_count": 9,
   "id": "5a4fb66d",
   "metadata": {},
   "outputs": [
    {
     "data": {
      "text/plain": [
       "0.3413447460685429"
      ]
     },
     "execution_count": 9,
     "metadata": {},
     "output_type": "execute_result"
    }
   ],
   "source": [
    "#employess older than 38 and 44 p(38<X<44)\n",
    "stats.norm.cdf(44,38,6) - stats.norm.cdf(38,38,6) "
   ]
  },
  {
   "cell_type": "markdown",
   "id": "36fc4cb1",
   "metadata": {},
   "source": [
    "##### A is False.Because the probability of employees age between 38 and 44 is more."
   ]
  },
  {
   "cell_type": "code",
   "execution_count": 4,
   "id": "d246a664",
   "metadata": {},
   "outputs": [
    {
     "data": {
      "text/plain": [
       "0.09121121972586788"
      ]
     },
     "execution_count": 4,
     "metadata": {},
     "output_type": "execute_result"
    }
   ],
   "source": [
    "#employees under 30  - p(X<30)\n",
    "stats.norm.cdf(30,38,6)"
   ]
  },
  {
   "cell_type": "code",
   "execution_count": 5,
   "id": "086ca985",
   "metadata": {},
   "outputs": [
    {
     "data": {
      "text/plain": [
       "36.484487890347154"
      ]
     },
     "execution_count": 5,
     "metadata": {},
     "output_type": "execute_result"
    }
   ],
   "source": [
    "#no: of employees attending training program from 400, N=400 is N*p(X<30) \n",
    "N=400\n",
    "N*stats.norm.cdf(30,38,6)"
   ]
  },
  {
   "cell_type": "markdown",
   "id": "ee9381e7",
   "metadata": {},
   "source": [
    "##### B is True.Employees under the age of 30 at the center would attract about 36 employees."
   ]
  },
  {
   "cell_type": "code",
   "execution_count": null,
   "id": "de480251",
   "metadata": {},
   "outputs": [],
   "source": [
    "#------------------------------------------------------------------------------------------------------------------------------#"
   ]
  },
  {
   "cell_type": "markdown",
   "id": "479cdedb",
   "metadata": {},
   "source": [
    "#### Q3.If X1 ~ N(μ, σ2^2) and X2 ~ N(μ, σ2^2) are iid normal random variables, then what is the difference between 2 X1 and X1 + X2? Discuss both their distributions and parameters.  \n",
    "\n",
    "Ans: -\n",
    "##### if X ∼ N(µ1, σ1^2 ), and Y ∼ N(µ2, σ2^2 ) = two independent random variables\n",
    "##### then X + Y ∼ N(µ1 + µ2, σ1^2 + σ2^2 ) , and X − Y ∼ N(µ1 − µ2, σ1^2 + σ2^2 ) .\n",
    "##### Similarly \n",
    "##### if Z = aX + bY \n",
    "##### then Z ∼ N(aµ1 + bµ2, a^2σ1^2 + b^2σ2^2 ).\n",
    "##### Therefore \n",
    "##### 2X1~ N(2 u,4 σ^2)  ,  X1+X2 ~ N(µ + µ, σ^2 + σ^2 ) ~ N(2 u, 2σ^2 )\n",
    "##### 2X1-(X1+X2) = N( 4µ,6 σ^2)"
   ]
  },
  {
   "cell_type": "code",
   "execution_count": null,
   "id": "fc345915",
   "metadata": {},
   "outputs": [],
   "source": [
    "#------------------------------------------------------------------------------------------------------------------------------#"
   ]
  },
  {
   "cell_type": "markdown",
   "id": "1bedcee6",
   "metadata": {},
   "source": [
    "#### Q4.\tLet X ~ N(100, 20^2) . Find two values, a and b, symmetric about the mean, such that the probability of the random variable taking a value between them is 0.99. \n",
    "\n",
    "Ans:-\n",
    "##### p(a<x<b)=0.99,µ=100,σ=20\n",
    "##### Probability outside the a and b area is 1-0.99 = 0.01\n",
    "##### probability towards left = -0.01/2 = -0.005\n",
    "##### probability towards right = 0.01/2 = 0.005"
   ]
  },
  {
   "cell_type": "code",
   "execution_count": 10,
   "id": "15a331a4",
   "metadata": {},
   "outputs": [
    {
     "data": {
      "text/plain": [
       "-2.575829303548901"
      ]
     },
     "execution_count": 10,
     "metadata": {},
     "output_type": "execute_result"
    }
   ],
   "source": [
    "#z value of 0.005\n",
    "stats.norm.ppf(0.005)"
   ]
  },
  {
   "cell_type": "markdown",
   "id": "e1914b10",
   "metadata": {},
   "source": [
    "##### Z = (x-100)/20 \n",
    "##### x = 20z+100\n",
    "##### a = -(20 * 2.576)+100 = 48.5\n",
    "##### b = (20 * 2.576)+100 = 151.52\n",
    "##### ->a = 48.5, b = 151.52 - Option D"
   ]
  },
  {
   "cell_type": "code",
   "execution_count": null,
   "id": "a04b3272",
   "metadata": {},
   "outputs": [],
   "source": [
    "#------------------------------------------------------------------------------------------------------------------------------#"
   ]
  },
  {
   "cell_type": "markdown",
   "id": "1fb28bab",
   "metadata": {},
   "source": [
    "#### Q5. Consider a company that has two different divisions. The annual profits from the two divisions are independent and have distributions Profit1 ~ N(5, 3^2) and Profit2 ~ N(7, 4^2) respectively. Both the profits are in Million. Answer the following questions about the total profit of the company in Rupees. Assume that $1 = Rs. 45\n",
    "#### A.\tSpecify a Rupee range (centered on the mean) such that it contains 95% probability for the annual profit of the company.\n",
    "Ans:- 1+0.95 =1.95/2 =0.975,\n",
    "      1-0.95 =0.05/2 =0.025\n",
    "\n"
   ]
  },
  {
   "cell_type": "code",
   "execution_count": 17,
   "id": "d35d8598",
   "metadata": {},
   "outputs": [
    {
     "data": {
      "text/plain": [
       "219.12010804637984"
      ]
     },
     "execution_count": 17,
     "metadata": {},
     "output_type": "execute_result"
    }
   ],
   "source": [
    "stats.norm.ppf(0.025,45*5,3)"
   ]
  },
  {
   "cell_type": "code",
   "execution_count": 19,
   "id": "12d96c5c",
   "metadata": {},
   "outputs": [
    {
     "data": {
      "text/plain": [
       "230.87989195362016"
      ]
     },
     "execution_count": 19,
     "metadata": {},
     "output_type": "execute_result"
    }
   ],
   "source": [
    "stats.norm.ppf(0.975,45*5,3)"
   ]
  },
  {
   "cell_type": "code",
   "execution_count": 21,
   "id": "9a56aecd",
   "metadata": {},
   "outputs": [
    {
     "data": {
      "text/plain": [
       "307.1601440618398"
      ]
     },
     "execution_count": 21,
     "metadata": {},
     "output_type": "execute_result"
    }
   ],
   "source": [
    "stats.norm.ppf(0.025,45*7,4)"
   ]
  },
  {
   "cell_type": "code",
   "execution_count": 20,
   "id": "477152c4",
   "metadata": {},
   "outputs": [
    {
     "data": {
      "text/plain": [
       "322.8398559381602"
      ]
     },
     "execution_count": 20,
     "metadata": {},
     "output_type": "execute_result"
    }
   ],
   "source": [
    "stats.norm.ppf(0.975,45*7,4)"
   ]
  },
  {
   "cell_type": "markdown",
   "id": "8a014b16",
   "metadata": {},
   "source": [
    "95% probability for the annual profit of the company is given by =\n",
    "profit1 +profit2\n",
    "[219.12+230.87], [307.16+322.83]\n",
    "[4449.99,629.99]\n",
    "\n",
    "So Profit of the company in Rupees(in Million) is between range [449.99,629.99]"
   ]
  },
  {
   "cell_type": "code",
   "execution_count": 26,
   "id": "e1b38744",
   "metadata": {},
   "outputs": [
    {
     "data": {
      "text/plain": [
       "220.0654391191456"
      ]
     },
     "execution_count": 26,
     "metadata": {},
     "output_type": "execute_result"
    }
   ],
   "source": [
    "#B.Specify the 5th percentile of profit (in Rupees) for the company\n",
    "stats.norm.ppf(0.05,45*5,3)"
   ]
  },
  {
   "cell_type": "code",
   "execution_count": 27,
   "id": "bd67a948",
   "metadata": {},
   "outputs": [
    {
     "data": {
      "text/plain": [
       "308.4205854921941"
      ]
     },
     "execution_count": 27,
     "metadata": {},
     "output_type": "execute_result"
    }
   ],
   "source": [
    "stats.norm.ppf(0.05,45*7,4)"
   ]
  },
  {
   "cell_type": "code",
   "execution_count": 28,
   "id": "17f51a28",
   "metadata": {},
   "outputs": [
    {
     "data": {
      "text/plain": [
       "528.485"
      ]
     },
     "execution_count": 28,
     "metadata": {},
     "output_type": "execute_result"
    }
   ],
   "source": [
    "#5th percentile of profit = \n",
    "220.065+308.42"
   ]
  },
  {
   "cell_type": "code",
   "execution_count": 29,
   "id": "0323e861",
   "metadata": {},
   "outputs": [
    {
     "data": {
      "text/plain": [
       "0.0477903522728147"
      ]
     },
     "execution_count": 29,
     "metadata": {},
     "output_type": "execute_result"
    }
   ],
   "source": [
    "#C.\tWhich of the two divisions has a larger probability of making a loss in a given year?\n",
    "\n",
    "#p(division1 making a loss) p(x<0)\n",
    "stats.norm.cdf(0,5,3)\n"
   ]
  },
  {
   "cell_type": "code",
   "execution_count": 30,
   "id": "ea83f1a1",
   "metadata": {},
   "outputs": [
    {
     "data": {
      "text/plain": [
       "0.040059156863817086"
      ]
     },
     "execution_count": 30,
     "metadata": {},
     "output_type": "execute_result"
    }
   ],
   "source": [
    "#p(division2 making a loss) p(x<0)\n",
    "stats.norm.cdf(0,7,4)"
   ]
  },
  {
   "cell_type": "markdown",
   "id": "546a3074",
   "metadata": {},
   "source": [
    "Divsion1 has large probabilty of making loss"
   ]
  }
 ],
 "metadata": {
  "kernelspec": {
   "display_name": "Python 3",
   "language": "python",
   "name": "python3"
  },
  "language_info": {
   "codemirror_mode": {
    "name": "ipython",
    "version": 3
   },
   "file_extension": ".py",
   "mimetype": "text/x-python",
   "name": "python",
   "nbconvert_exporter": "python",
   "pygments_lexer": "ipython3",
   "version": "3.8.8"
  }
 },
 "nbformat": 4,
 "nbformat_minor": 5
}
